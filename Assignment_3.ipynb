{
 "cells": [
  {
   "cell_type": "markdown",
   "metadata": {},
   "source": [
    "# Task 1:1"
   ]
  },
  {
   "cell_type": "code",
   "execution_count": 1,
   "metadata": {},
   "outputs": [
    {
     "name": "stdout",
     "output_type": "stream",
     "text": [
      "Error :  division by zero\n"
     ]
    }
   ],
   "source": [
    "def calculate(x,y):\n",
    "    try:\n",
    "        x/y\n",
    "    except Exception as e:\n",
    "        print(\"Error : \",e)\n",
    "calculate(5,0)"
   ]
  },
  {
   "cell_type": "markdown",
   "metadata": {},
   "source": [
    "# Task 1:2"
   ]
  },
  {
   "cell_type": "code",
   "execution_count": 9,
   "metadata": {},
   "outputs": [
    {
     "name": "stdout",
     "output_type": "stream",
     "text": [
      "Americans  play  Baseball.\n",
      "Americans  play  Cricket.\n",
      "Americans  watch  Baseball.\n",
      "Americans  watch  Cricket.\n",
      "Indians  play  Baseball.\n",
      "Indians  play  Cricket.\n",
      "Indians  watch  Baseball.\n",
      "Indians  watch  Cricket.\n"
     ]
    }
   ],
   "source": [
    "subjects=[\"Americans \",\"Indians \"]\n",
    "verbs=[\"play \",\"watch \"]\n",
    "objects=[\"Baseball.\",\"Cricket.\"]\n",
    "for i in subjects:\n",
    "    for j in verbs:\n",
    "        for k in objects:\n",
    "            print(i,j,k)"
   ]
  },
  {
   "cell_type": "markdown",
   "metadata": {},
   "source": [
    "# Task 2:1"
   ]
  },
  {
   "cell_type": "code",
   "execution_count": 47,
   "metadata": {},
   "outputs": [
    {
     "name": "stdout",
     "output_type": "stream",
     "text": [
      "Please enter comma separated integer : 2,3,4,5\n",
      "Please enter number of columns of matrix : 4\n",
      "[[8, 4, 2, 1], [27, 9, 3, 1], [64, 16, 4, 1], [125, 25, 5, 1]]\n"
     ]
    }
   ],
   "source": [
    "def vanderfunc(x,n):\n",
    "    c=[]\n",
    "    for i in x:\n",
    "        a=[]\n",
    "        b=1\n",
    "        while b<=n:\n",
    "            if(b==1):\n",
    "                    a.append(b)\n",
    "                    b=b+1\n",
    "            else:\n",
    "                d=b-1\n",
    "                a.append(i**d)\n",
    "                b=b+1\n",
    "        a.sort(reverse=True)\n",
    "        c.append(a)\n",
    "    return c\n",
    "x=[int(i) for i in input(\"Please enter comma separated integer : \").split(',')]\n",
    "N=int(input('Please enter number of columns of matrix : '))\n",
    "#np.vander(x, N, increasing=False)\n",
    "result=vanderfunc(x,N)\n",
    "print(result)"
   ]
  },
  {
   "cell_type": "code",
   "execution_count": null,
   "metadata": {},
   "outputs": [],
   "source": []
  }
 ],
 "metadata": {
  "kernelspec": {
   "display_name": "Python 3",
   "language": "python",
   "name": "python3"
  },
  "language_info": {
   "codemirror_mode": {
    "name": "ipython",
    "version": 3
   },
   "file_extension": ".py",
   "mimetype": "text/x-python",
   "name": "python",
   "nbconvert_exporter": "python",
   "pygments_lexer": "ipython3",
   "version": "3.7.6"
  }
 },
 "nbformat": 4,
 "nbformat_minor": 4
}
